{
 "cells": [
  {
   "cell_type": "markdown",
   "metadata": {},
   "source": [
    "# Image Classification with DNN"
   ]
  },
  {
   "cell_type": "markdown",
   "metadata": {},
   "source": [
    "## DATASETS:\n",
    "(a) Carbonic Anhydrase II (ChEMBL205), a protein lyase,  \n",
    "(b) Cyclin-dependent kinase 2 (CHEMBL301), a protein kinase,  \n",
    "(c) ether-a-go-go-related gene potassium channel 1 (HERG) (CHEMBL240), a voltage-gated ion channel,  \n",
    "(d) Dopamine D4 receptor (CHEMBL219), a monoamine GPCR,  \n",
    "(e) Coagulation factor X (CHEMBL244), a serine protease,  \n",
    "(f) Cannabinoid CB1 receptor (CHEMBL218), a lipid-like GPCR and  \n",
    "(g) Cytochrome P450 19A1 (CHEMBL1978), a cytochrome P450.  \n",
    "The activity classes were selected based on data availability and as representatives of therapeutically important target classes or as anti-targets."
   ]
  },
  {
   "cell_type": "code",
   "execution_count": 9,
   "metadata": {
    "scrolled": true
   },
   "outputs": [
    {
     "name": "stdout",
     "output_type": "stream",
     "text": [
      "Thu Apr 22 20:06:12 2021       \n",
      "+-----------------------------------------------------------------------------+\n",
      "| NVIDIA-SMI 450.36.06    Driver Version: 450.36.06    CUDA Version: 11.0     |\n",
      "|-------------------------------+----------------------+----------------------+\n",
      "| GPU  Name        Persistence-M| Bus-Id        Disp.A | Volatile Uncorr. ECC |\n",
      "| Fan  Temp  Perf  Pwr:Usage/Cap|         Memory-Usage | GPU-Util  Compute M. |\n",
      "|                               |                      |               MIG M. |\n",
      "|===============================+======================+======================|\n",
      "|   0  Quadro P5000        On   | 00000000:00:05.0 Off |                  Off |\n",
      "| 26%   24C    P8     7W / 180W |      1MiB / 16278MiB |      0%      Default |\n",
      "|                               |                      |                  N/A |\n",
      "+-------------------------------+----------------------+----------------------+\n",
      "                                                                               \n",
      "+-----------------------------------------------------------------------------+\n",
      "| Processes:                                                                  |\n",
      "|  GPU   GI   CI        PID   Type   Process name                  GPU Memory |\n",
      "|        ID   ID                                                   Usage      |\n",
      "|=============================================================================|\n",
      "|  No running processes found                                                 |\n",
      "+-----------------------------------------------------------------------------+\n",
      "WARNING: infoROM is corrupted at gpu 0000:00:05.0\n"
     ]
    }
   ],
   "source": [
    "!nvidia-smi"
   ]
  },
  {
   "cell_type": "code",
   "execution_count": 10,
   "metadata": {},
   "outputs": [],
   "source": [
    "%%capture\n",
    "!wget -c https://repo.continuum.io/miniconda/Miniconda3-latest-Linux-x86_64.sh\n",
    "!chmod +x Miniconda3-latest-Linux-x86_64.sh\n",
    "!time bash ./Miniconda3-latest-Linux-x86_64.sh -b -f -p /usr/local\n",
    "!time conda install -q -y -c conda-forge rdkit"
   ]
  },
  {
   "cell_type": "code",
   "execution_count": 11,
   "metadata": {},
   "outputs": [],
   "source": [
    "# Import\n",
    "import pandas as pd\n",
    "import numpy as np\n",
    "from pathlib import Path"
   ]
  },
  {
   "cell_type": "code",
   "execution_count": 12,
   "metadata": {},
   "outputs": [],
   "source": [
    "%matplotlib inline\n",
    "import matplotlib.pyplot as plt\n",
    "import sys\n",
    "import os\n",
    "sys.path.append('/usr/local/lib/python3.7/site-packages/')\n",
    "from rdkit import Chem\n",
    "from rdkit.Chem import AllChem"
   ]
  },
  {
   "cell_type": "code",
   "execution_count": 155,
   "metadata": {},
   "outputs": [],
   "source": [
    "dataset = 'CHEMBL205_cl'"
   ]
  },
  {
   "cell_type": "code",
   "execution_count": 156,
   "metadata": {},
   "outputs": [],
   "source": [
    "path = Path('../dataset/13321_2017_226_MOESM1_ESM/')\n",
    "df = pd.read_csv(path/f'{dataset}.csv')"
   ]
  },
  {
   "cell_type": "code",
   "execution_count": null,
   "metadata": {},
   "outputs": [],
   "source": [
    "list(path.iterdir())"
   ]
  },
  {
   "cell_type": "markdown",
   "metadata": {},
   "source": [
    "# Generate images"
   ]
  },
  {
   "cell_type": "code",
   "execution_count": 157,
   "metadata": {},
   "outputs": [],
   "source": [
    "DATA = path/'mol_images'\n",
    "DATA.mkdir(exist_ok=True)"
   ]
  },
  {
   "cell_type": "code",
   "execution_count": 158,
   "metadata": {
    "scrolled": true
   },
   "outputs": [
    {
     "data": {
      "text/html": [
       "<div>\n",
       "<style scoped>\n",
       "    .dataframe tbody tr th:only-of-type {\n",
       "        vertical-align: middle;\n",
       "    }\n",
       "\n",
       "    .dataframe tbody tr th {\n",
       "        vertical-align: top;\n",
       "    }\n",
       "\n",
       "    .dataframe thead th {\n",
       "        text-align: right;\n",
       "    }\n",
       "</style>\n",
       "<table border=\"1\" class=\"dataframe\">\n",
       "  <thead>\n",
       "    <tr style=\"text-align: right;\">\n",
       "      <th></th>\n",
       "      <th>CID</th>\n",
       "      <th>SMILES</th>\n",
       "      <th>Activity</th>\n",
       "    </tr>\n",
       "  </thead>\n",
       "  <tbody>\n",
       "    <tr>\n",
       "      <th>0</th>\n",
       "      <td>CHEMBL188002</td>\n",
       "      <td>S(=O)(=O)(N)c1cc(N/C(/S)=N\\c2cc(C(=O)[O-])c(cc2)C=2c3c(OC4=CC(=O)C=CC=24)cc(O)cc3)ccc1</td>\n",
       "      <td>1</td>\n",
       "    </tr>\n",
       "    <tr>\n",
       "      <th>1</th>\n",
       "      <td>CHEMBL364127</td>\n",
       "      <td>Clc1ccc(cc1)C(=O)NC1Cc2cc(S(=O)(=O)N)ccc2C1</td>\n",
       "      <td>1</td>\n",
       "    </tr>\n",
       "    <tr>\n",
       "      <th>2</th>\n",
       "      <td>CHEMBL1683469</td>\n",
       "      <td>S(=O)(=O)(N)c1ccc(cc1)CNS(=O)(=O)CC12CCC(CC1=O)C2(C)C</td>\n",
       "      <td>1</td>\n",
       "    </tr>\n",
       "    <tr>\n",
       "      <th>3</th>\n",
       "      <td>CHEMBL52564</td>\n",
       "      <td>Oc1ccccc1\\C=C\\C(=O)[O-]</td>\n",
       "      <td>1</td>\n",
       "    </tr>\n",
       "    <tr>\n",
       "      <th>4</th>\n",
       "      <td>CHEMBL21427</td>\n",
       "      <td>OB(O)c1ccc(OC)cc1</td>\n",
       "      <td>1</td>\n",
       "    </tr>\n",
       "  </tbody>\n",
       "</table>\n",
       "</div>"
      ],
      "text/plain": [
       "             CID  \\\n",
       "0   CHEMBL188002   \n",
       "1   CHEMBL364127   \n",
       "2  CHEMBL1683469   \n",
       "3    CHEMBL52564   \n",
       "4    CHEMBL21427   \n",
       "\n",
       "                                                                                   SMILES  \\\n",
       "0  S(=O)(=O)(N)c1cc(N/C(/S)=N\\c2cc(C(=O)[O-])c(cc2)C=2c3c(OC4=CC(=O)C=CC=24)cc(O)cc3)ccc1   \n",
       "1                                             Clc1ccc(cc1)C(=O)NC1Cc2cc(S(=O)(=O)N)ccc2C1   \n",
       "2                                   S(=O)(=O)(N)c1ccc(cc1)CNS(=O)(=O)CC12CCC(CC1=O)C2(C)C   \n",
       "3                                                                 Oc1ccccc1\\C=C\\C(=O)[O-]   \n",
       "4                                                                       OB(O)c1ccc(OC)cc1   \n",
       "\n",
       "   Activity  \n",
       "0         1  \n",
       "1         1  \n",
       "2         1  \n",
       "3         1  \n",
       "4         1  "
      ]
     },
     "execution_count": 158,
     "metadata": {},
     "output_type": "execute_result"
    }
   ],
   "source": [
    "df.head()"
   ]
  },
  {
   "cell_type": "code",
   "execution_count": 65,
   "metadata": {},
   "outputs": [],
   "source": [
    "#DElETE DIRECTORY\n",
    "#import shutil\n",
    "#import pathlib\n",
    "#import os  # for checking results\n",
    "\n",
    "#print(os.listdir())\n",
    "# [\"a_directory\", \"foo.py\", ...]\n",
    "\n",
    "#DATA = DATA/'directory'\n",
    "\n",
    "#shutil.rmtree(DATA)\n",
    "#print(os.listdir())\n",
    "# [\"foo.py\", ...]"
   ]
  },
  {
   "cell_type": "code",
   "execution_count": 186,
   "metadata": {},
   "outputs": [],
   "source": [
    "# Iterate all rows in the dataframe and create images\n",
    "\n",
    "IMAGES = DATA/dataset\n",
    "#if not IMAGES.is_dir():\n",
    "    #IMAGES.mkdir(exist_ok=True)\n",
    "for i, r in df.iterrows():\n",
    "    \n",
    "        cid = r.CID\n",
    "        smile = r.SMILES\n",
    "        mol = Chem.MolFromSmiles(smile)\n",
    "        Chem.Draw.MolToFile(mol, IMAGES/f'{cid}.png', size = (300, 300), imageType='png')"
   ]
  },
  {
   "cell_type": "code",
   "execution_count": 187,
   "metadata": {},
   "outputs": [],
   "source": [
    "images = list(IMAGES.glob('*.png'))"
   ]
  },
  {
   "cell_type": "code",
   "execution_count": 188,
   "metadata": {},
   "outputs": [
    {
     "data": {
      "image/png": "[encoded data removed]",
      "text/plain": [
       "<Figure size 432x288 with 1 Axes>"
      ]
     },
     "metadata": {
      "needs_background": "light"
     },
     "output_type": "display_data"
    }
   ],
   "source": [
    "import matplotlib.pyplot as plt\n",
    "import matplotlib.image as mpimg\n",
    "img = mpimg.imread(images[0])\n",
    "imgplot = plt.imshow(img)\n",
    "plt.show()"
   ]
  },
  {
   "cell_type": "markdown",
   "metadata": {},
   "source": [
    "# Create train validation split"
   ]
  },
  {
   "cell_type": "code",
   "execution_count": 74,
   "metadata": {},
   "outputs": [],
   "source": [
    "from sklearn.model_selection import train_test_split"
   ]
  },
  {
   "cell_type": "code",
   "execution_count": 189,
   "metadata": {},
   "outputs": [],
   "source": [
    "x_train, x_valid = train_test_split(df.index, test_size=0.2, random_state=666, stratify=df['Activity'])\n",
    "df.loc[x_train, 'is_valid']=False\n",
    "df.loc[x_valid, 'is_valid']=True"
   ]
  },
  {
   "cell_type": "code",
   "execution_count": 190,
   "metadata": {},
   "outputs": [
    {
     "data": {
      "text/plain": [
       "False    14352\n",
       "True      3589\n",
       "Name: is_valid, dtype: int64"
      ]
     },
     "execution_count": 190,
     "metadata": {},
     "output_type": "execute_result"
    }
   ],
   "source": [
    "df.is_valid.value_counts()"
   ]
  },
  {
   "cell_type": "markdown",
   "metadata": {},
   "source": [
    "# Create dataloader"
   ]
  },
  {
   "cell_type": "code",
   "execution_count": 77,
   "metadata": {
    "scrolled": false
   },
   "outputs": [],
   "source": [
    "from fastai.vision.all import *"
   ]
  },
  {
   "cell_type": "code",
   "execution_count": 164,
   "metadata": {},
   "outputs": [
    {
     "data": {
      "text/html": [
       "<div>\n",
       "<style scoped>\n",
       "    .dataframe tbody tr th:only-of-type {\n",
       "        vertical-align: middle;\n",
       "    }\n",
       "\n",
       "    .dataframe tbody tr th {\n",
       "        vertical-align: top;\n",
       "    }\n",
       "\n",
       "    .dataframe thead th {\n",
       "        text-align: right;\n",
       "    }\n",
       "</style>\n",
       "<table border=\"1\" class=\"dataframe\">\n",
       "  <thead>\n",
       "    <tr style=\"text-align: right;\">\n",
       "      <th></th>\n",
       "      <th>CID</th>\n",
       "      <th>SMILES</th>\n",
       "      <th>Activity</th>\n",
       "      <th>is_valid</th>\n",
       "      <th>Image</th>\n",
       "    </tr>\n",
       "  </thead>\n",
       "  <tbody>\n",
       "    <tr>\n",
       "      <th>0</th>\n",
       "      <td>CHEMBL188002</td>\n",
       "      <td>S(=O)(=O)(N)c1cc(N/C(/S)=N\\c2cc(C(=O)[O-])c(cc2)C=2c3c(OC4=CC(=O)C=CC=24)cc(O)cc3)ccc1</td>\n",
       "      <td>1</td>\n",
       "      <td>False</td>\n",
       "      <td>CHEMBL188002.png</td>\n",
       "    </tr>\n",
       "    <tr>\n",
       "      <th>1</th>\n",
       "      <td>CHEMBL364127</td>\n",
       "      <td>Clc1ccc(cc1)C(=O)NC1Cc2cc(S(=O)(=O)N)ccc2C1</td>\n",
       "      <td>1</td>\n",
       "      <td>False</td>\n",
       "      <td>CHEMBL364127.png</td>\n",
       "    </tr>\n",
       "    <tr>\n",
       "      <th>2</th>\n",
       "      <td>CHEMBL1683469</td>\n",
       "      <td>S(=O)(=O)(N)c1ccc(cc1)CNS(=O)(=O)CC12CCC(CC1=O)C2(C)C</td>\n",
       "      <td>1</td>\n",
       "      <td>False</td>\n",
       "      <td>CHEMBL1683469.png</td>\n",
       "    </tr>\n",
       "    <tr>\n",
       "      <th>3</th>\n",
       "      <td>CHEMBL52564</td>\n",
       "      <td>Oc1ccccc1\\C=C\\C(=O)[O-]</td>\n",
       "      <td>1</td>\n",
       "      <td>False</td>\n",
       "      <td>CHEMBL52564.png</td>\n",
       "    </tr>\n",
       "    <tr>\n",
       "      <th>4</th>\n",
       "      <td>CHEMBL21427</td>\n",
       "      <td>OB(O)c1ccc(OC)cc1</td>\n",
       "      <td>1</td>\n",
       "      <td>False</td>\n",
       "      <td>CHEMBL21427.png</td>\n",
       "    </tr>\n",
       "  </tbody>\n",
       "</table>\n",
       "</div>"
      ],
      "text/plain": [
       "             CID  \\\n",
       "0   CHEMBL188002   \n",
       "1   CHEMBL364127   \n",
       "2  CHEMBL1683469   \n",
       "3    CHEMBL52564   \n",
       "4    CHEMBL21427   \n",
       "\n",
       "                                                                                   SMILES  \\\n",
       "0  S(=O)(=O)(N)c1cc(N/C(/S)=N\\c2cc(C(=O)[O-])c(cc2)C=2c3c(OC4=CC(=O)C=CC=24)cc(O)cc3)ccc1   \n",
       "1                                             Clc1ccc(cc1)C(=O)NC1Cc2cc(S(=O)(=O)N)ccc2C1   \n",
       "2                                   S(=O)(=O)(N)c1ccc(cc1)CNS(=O)(=O)CC12CCC(CC1=O)C2(C)C   \n",
       "3                                                                 Oc1ccccc1\\C=C\\C(=O)[O-]   \n",
       "4                                                                       OB(O)c1ccc(OC)cc1   \n",
       "\n",
       "   Activity is_valid              Image  \n",
       "0         1    False   CHEMBL188002.png  \n",
       "1         1    False   CHEMBL364127.png  \n",
       "2         1    False  CHEMBL1683469.png  \n",
       "3         1    False    CHEMBL52564.png  \n",
       "4         1    False    CHEMBL21427.png  "
      ]
     },
     "execution_count": 164,
     "metadata": {},
     "output_type": "execute_result"
    }
   ],
   "source": [
    "df['Image'] = df['CID'] + '.png'\n",
    "df.head()"
   ]
  },
  {
   "cell_type": "code",
   "execution_count": 79,
   "metadata": {},
   "outputs": [
    {
     "data": {
      "text/plain": [
       "0     CHEMBL494207.png\n",
       "1    CHEMBL2180226.png\n",
       "2    CHEMBL2180223.png\n",
       "3    CHEMBL2180222.png\n",
       "4    CHEMBL2180221.png\n",
       "Name: CID, dtype: object"
      ]
     },
     "execution_count": 79,
     "metadata": {},
     "output_type": "execute_result"
    }
   ],
   "source": [
    "images = df['CID'] + \".png\"\n",
    "images.head()"
   ]
  },
  {
   "cell_type": "code",
   "execution_count": 191,
   "metadata": {},
   "outputs": [],
   "source": [
    "db = DataBlock(\n",
    "    blocks = (ImageBlock(), CategoryBlock()), \n",
    "    get_x=ColReader('Image', pref=IMAGES),\n",
    "    get_y=ColReader('Activity'), \n",
    "    splitter=ColSplitter('is_valid'),\n",
    "    item_tfms=None, \n",
    "    batch_tfms=None\n",
    "    )"
   ]
  },
  {
   "cell_type": "code",
   "execution_count": 192,
   "metadata": {},
   "outputs": [],
   "source": [
    "dls = db.dataloaders(df, bs=64, shuffle_train=True)"
   ]
  },
  {
   "cell_type": "code",
   "execution_count": 193,
   "metadata": {},
   "outputs": [
    {
     "data": {
      "image/png": "[encoded data removed]",
      "text/plain": [
       "<Figure size 648x648 with 9 Axes>"
      ]
     },
     "metadata": {
      "needs_background": "light"
     },
     "output_type": "display_data"
    }
   ],
   "source": [
    "dls.show_batch()"
   ]
  },
  {
   "cell_type": "markdown",
   "metadata": {},
   "source": [
    "# Train CNN model"
   ]
  },
  {
   "cell_type": "code",
   "execution_count": 85,
   "metadata": {},
   "outputs": [],
   "source": [
    "from sklearn.metrics import auc,roc_auc_score,recall_score,precision_score,f1_score\n",
    "from sklearn.metrics import matthews_corrcoef\n",
    "from sklearn.metrics import accuracy_score"
   ]
  },
  {
   "cell_type": "code",
   "execution_count": 168,
   "metadata": {},
   "outputs": [],
   "source": [
    "def train_model(dls, arch=resnet18, epochs=6, freeze_epochs=4, wd=None):\n",
    "    \n",
    "    print(f'Training model on dataset: {dataset}')\n",
    "    print(f'Architechture: {arch}')\n",
    "    print(f'Untrained epochs: freeze_epochs={freeze_epochs}')\n",
    "    print(f'Trained epochs: epochs={epochs}')\n",
    "    \n",
    "    learn = cnn_learner(dls, arch=resnet18, pretrained=True, \n",
    "                            wd=wd,\n",
    "                            metrics=[accuracy, \n",
    "                            F1Score(), \n",
    "                            Precision(), \n",
    "                            Recall(), \n",
    "                            RocAucBinary(), \n",
    "                            MatthewsCorrCoef()])\n",
    "    \n",
    "    \n",
    "    print(f'Finding learning rate...')\n",
    "    lr_min, lr_steep = learn.lr_find(suggestions=True, show_plot=False)\n",
    "    print(f'Training model with learning rate: {lr_min}')\n",
    "    learn.fine_tune(epochs, lr_min, freeze_epochs=freeze_epochs)\n",
    "    \n",
    "    return learn"
   ]
  },
  {
   "cell_type": "code",
   "execution_count": 108,
   "metadata": {
    "scrolled": false
   },
   "outputs": [
    {
     "data": {
      "text/html": [
       "<table border=\"1\" class=\"dataframe\">\n",
       "  <thead>\n",
       "    <tr style=\"text-align: left;\">\n",
       "      <th>epoch</th>\n",
       "      <th>train_loss</th>\n",
       "      <th>valid_loss</th>\n",
       "      <th>accuracy</th>\n",
       "      <th>f1_score</th>\n",
       "      <th>precision_score</th>\n",
       "      <th>recall_score</th>\n",
       "      <th>roc_auc_score</th>\n",
       "      <th>matthews_corrcoef</th>\n",
       "      <th>time</th>\n",
       "    </tr>\n",
       "  </thead>\n",
       "  <tbody>\n",
       "    <tr>\n",
       "      <td>0</td>\n",
       "      <td>0.284817</td>\n",
       "      <td>0.181910</td>\n",
       "      <td>0.934289</td>\n",
       "      <td>0.590164</td>\n",
       "      <td>0.685121</td>\n",
       "      <td>0.518325</td>\n",
       "      <td>0.910491</td>\n",
       "      <td>0.561580</td>\n",
       "      <td>00:39</td>\n",
       "    </tr>\n",
       "    <tr>\n",
       "      <td>1</td>\n",
       "      <td>0.228853</td>\n",
       "      <td>0.179736</td>\n",
       "      <td>0.941458</td>\n",
       "      <td>0.655415</td>\n",
       "      <td>0.708207</td>\n",
       "      <td>0.609948</td>\n",
       "      <td>0.923876</td>\n",
       "      <td>0.625698</td>\n",
       "      <td>00:39</td>\n",
       "    </tr>\n",
       "    <tr>\n",
       "      <td>2</td>\n",
       "      <td>0.191535</td>\n",
       "      <td>0.141762</td>\n",
       "      <td>0.952449</td>\n",
       "      <td>0.737813</td>\n",
       "      <td>0.742706</td>\n",
       "      <td>0.732984</td>\n",
       "      <td>0.960451</td>\n",
       "      <td>0.711686</td>\n",
       "      <td>00:41</td>\n",
       "    </tr>\n",
       "    <tr>\n",
       "      <td>3</td>\n",
       "      <td>0.140691</td>\n",
       "      <td>0.125002</td>\n",
       "      <td>0.962724</td>\n",
       "      <td>0.779037</td>\n",
       "      <td>0.848765</td>\n",
       "      <td>0.719895</td>\n",
       "      <td>0.968268</td>\n",
       "      <td>0.761901</td>\n",
       "      <td>00:40</td>\n",
       "    </tr>\n",
       "  </tbody>\n",
       "</table>"
      ],
      "text/plain": [
       "<IPython.core.display.HTML object>"
      ]
     },
     "metadata": {},
     "output_type": "display_data"
    },
    {
     "data": {
      "text/html": [
       "<table border=\"1\" class=\"dataframe\">\n",
       "  <thead>\n",
       "    <tr style=\"text-align: left;\">\n",
       "      <th>epoch</th>\n",
       "      <th>train_loss</th>\n",
       "      <th>valid_loss</th>\n",
       "      <th>accuracy</th>\n",
       "      <th>f1_score</th>\n",
       "      <th>precision_score</th>\n",
       "      <th>recall_score</th>\n",
       "      <th>roc_auc_score</th>\n",
       "      <th>matthews_corrcoef</th>\n",
       "      <th>time</th>\n",
       "    </tr>\n",
       "  </thead>\n",
       "  <tbody>\n",
       "    <tr>\n",
       "      <td>0</td>\n",
       "      <td>0.125064</td>\n",
       "      <td>0.139063</td>\n",
       "      <td>0.957228</td>\n",
       "      <td>0.728376</td>\n",
       "      <td>0.866426</td>\n",
       "      <td>0.628272</td>\n",
       "      <td>0.963510</td>\n",
       "      <td>0.716552</td>\n",
       "      <td>00:52</td>\n",
       "    </tr>\n",
       "    <tr>\n",
       "      <td>1</td>\n",
       "      <td>0.112283</td>\n",
       "      <td>0.115448</td>\n",
       "      <td>0.959618</td>\n",
       "      <td>0.745098</td>\n",
       "      <td>0.879004</td>\n",
       "      <td>0.646597</td>\n",
       "      <td>0.971483</td>\n",
       "      <td>0.733793</td>\n",
       "      <td>00:52</td>\n",
       "    </tr>\n",
       "    <tr>\n",
       "      <td>2</td>\n",
       "      <td>0.072706</td>\n",
       "      <td>0.100674</td>\n",
       "      <td>0.975149</td>\n",
       "      <td>0.849711</td>\n",
       "      <td>0.948387</td>\n",
       "      <td>0.769634</td>\n",
       "      <td>0.973456</td>\n",
       "      <td>0.841747</td>\n",
       "      <td>00:52</td>\n",
       "    </tr>\n",
       "    <tr>\n",
       "      <td>3</td>\n",
       "      <td>0.037130</td>\n",
       "      <td>0.092876</td>\n",
       "      <td>0.973477</td>\n",
       "      <td>0.859671</td>\n",
       "      <td>0.831296</td>\n",
       "      <td>0.890052</td>\n",
       "      <td>0.979884</td>\n",
       "      <td>0.845645</td>\n",
       "      <td>00:52</td>\n",
       "    </tr>\n",
       "    <tr>\n",
       "      <td>4</td>\n",
       "      <td>0.010522</td>\n",
       "      <td>0.082950</td>\n",
       "      <td>0.983751</td>\n",
       "      <td>0.908602</td>\n",
       "      <td>0.933702</td>\n",
       "      <td>0.884817</td>\n",
       "      <td>0.985189</td>\n",
       "      <td>0.900084</td>\n",
       "      <td>00:52</td>\n",
       "    </tr>\n",
       "    <tr>\n",
       "      <td>5</td>\n",
       "      <td>0.004011</td>\n",
       "      <td>0.084918</td>\n",
       "      <td>0.984946</td>\n",
       "      <td>0.914286</td>\n",
       "      <td>0.951841</td>\n",
       "      <td>0.879581</td>\n",
       "      <td>0.985771</td>\n",
       "      <td>0.906897</td>\n",
       "      <td>00:52</td>\n",
       "    </tr>\n",
       "  </tbody>\n",
       "</table>"
      ],
      "text/plain": [
       "<IPython.core.display.HTML object>"
      ]
     },
     "metadata": {},
     "output_type": "display_data"
    }
   ],
   "source": [
    "learn.fine_tune(6, lr_min, freeze_epochs=4)"
   ]
  },
  {
   "cell_type": "code",
   "execution_count": null,
   "metadata": {
    "scrolled": true
   },
   "outputs": [
    {
     "name": "stdout",
     "output_type": "stream",
     "text": [
      "Training model on dataset: CHEMBL205_cl\n",
      "Architechture: <function resnet18 at 0x7fa013415d30>\n",
      "Untrained epochs: freeze_epochs=4\n",
      "Trained epochs: epochs=6\n",
      "Finding learning rate...\n"
     ]
    },
    {
     "data": {
      "text/html": [],
      "text/plain": [
       "<IPython.core.display.HTML object>"
      ]
     },
     "metadata": {},
     "output_type": "display_data"
    },
    {
     "name": "stdout",
     "output_type": "stream",
     "text": [
      "Training model with learning rate: 0.010000000149011612\n"
     ]
    },
    {
     "data": {
      "text/html": [
       "<table border=\"1\" class=\"dataframe\">\n",
       "  <thead>\n",
       "    <tr style=\"text-align: left;\">\n",
       "      <th>epoch</th>\n",
       "      <th>train_loss</th>\n",
       "      <th>valid_loss</th>\n",
       "      <th>accuracy</th>\n",
       "      <th>f1_score</th>\n",
       "      <th>precision_score</th>\n",
       "      <th>recall_score</th>\n",
       "      <th>roc_auc_score</th>\n",
       "      <th>matthews_corrcoef</th>\n",
       "      <th>time</th>\n",
       "    </tr>\n",
       "  </thead>\n",
       "  <tbody>\n",
       "    <tr>\n",
       "      <td>0</td>\n",
       "      <td>0.329255</td>\n",
       "      <td>0.162569</td>\n",
       "      <td>0.936751</td>\n",
       "      <td>0.634461</td>\n",
       "      <td>0.667797</td>\n",
       "      <td>0.604294</td>\n",
       "      <td>0.935894</td>\n",
       "      <td>0.600833</td>\n",
       "      <td>01:08</td>\n",
       "    </tr>\n",
       "    <tr>\n",
       "      <td>1</td>\n",
       "      <td>0.190733</td>\n",
       "      <td>0.142372</td>\n",
       "      <td>0.948175</td>\n",
       "      <td>0.658088</td>\n",
       "      <td>0.821101</td>\n",
       "      <td>0.549080</td>\n",
       "      <td>0.949441</td>\n",
       "      <td>0.646230</td>\n",
       "      <td>01:07</td>\n",
       "    </tr>\n",
       "    <tr>\n",
       "      <td>2</td>\n",
       "      <td>0.191524</td>\n",
       "      <td>0.149163</td>\n",
       "      <td>0.954862</td>\n",
       "      <td>0.722603</td>\n",
       "      <td>0.817829</td>\n",
       "      <td>0.647239</td>\n",
       "      <td>0.956288</td>\n",
       "      <td>0.704062</td>\n",
       "      <td>01:07</td>\n",
       "    </tr>\n",
       "    <tr>\n",
       "      <td>3</td>\n",
       "      <td>0.148587</td>\n",
       "      <td>0.167602</td>\n",
       "      <td>0.956255</td>\n",
       "      <td>0.744715</td>\n",
       "      <td>0.792388</td>\n",
       "      <td>0.702454</td>\n",
       "      <td>0.960057</td>\n",
       "      <td>0.722453</td>\n",
       "      <td>01:08</td>\n",
       "    </tr>\n",
       "  </tbody>\n",
       "</table>"
      ],
      "text/plain": [
       "<IPython.core.display.HTML object>"
      ]
     },
     "metadata": {},
     "output_type": "display_data"
    },
    {
     "data": {
      "text/html": [
       "\n",
       "    <div>\n",
       "        <style>\n",
       "            /* Turns off some styling */\n",
       "            progress {\n",
       "                /* gets rid of default border in Firefox and Opera. */\n",
       "                border: none;\n",
       "                /* Needs to be in here for Safari polyfill so background images work as expected. */\n",
       "                background-size: auto;\n",
       "            }\n",
       "            .progress-bar-interrupted, .progress-bar-interrupted::-webkit-progress-bar {\n",
       "                background: #F44336;\n",
       "            }\n",
       "        </style>\n",
       "      <progress value='3' class='' max='6' style='width:300px; height:20px; vertical-align: middle;'></progress>\n",
       "      50.00% [3/6 04:18<04:18]\n",
       "    </div>\n",
       "    \n",
       "<table border=\"1\" class=\"dataframe\">\n",
       "  <thead>\n",
       "    <tr style=\"text-align: left;\">\n",
       "      <th>epoch</th>\n",
       "      <th>train_loss</th>\n",
       "      <th>valid_loss</th>\n",
       "      <th>accuracy</th>\n",
       "      <th>f1_score</th>\n",
       "      <th>precision_score</th>\n",
       "      <th>recall_score</th>\n",
       "      <th>roc_auc_score</th>\n",
       "      <th>matthews_corrcoef</th>\n",
       "      <th>time</th>\n",
       "    </tr>\n",
       "  </thead>\n",
       "  <tbody>\n",
       "    <tr>\n",
       "      <td>0</td>\n",
       "      <td>0.131395</td>\n",
       "      <td>0.122411</td>\n",
       "      <td>0.955141</td>\n",
       "      <td>0.720000</td>\n",
       "      <td>0.831325</td>\n",
       "      <td>0.634969</td>\n",
       "      <td>0.964807</td>\n",
       "      <td>0.703563</td>\n",
       "      <td>01:26</td>\n",
       "    </tr>\n",
       "    <tr>\n",
       "      <td>1</td>\n",
       "      <td>0.133426</td>\n",
       "      <td>0.133145</td>\n",
       "      <td>0.956813</td>\n",
       "      <td>0.751204</td>\n",
       "      <td>0.787879</td>\n",
       "      <td>0.717791</td>\n",
       "      <td>0.963472</td>\n",
       "      <td>0.728561</td>\n",
       "      <td>01:26</td>\n",
       "    </tr>\n",
       "    <tr>\n",
       "      <td>2</td>\n",
       "      <td>0.106324</td>\n",
       "      <td>0.126337</td>\n",
       "      <td>0.958484</td>\n",
       "      <td>0.753719</td>\n",
       "      <td>0.817204</td>\n",
       "      <td>0.699387</td>\n",
       "      <td>0.969412</td>\n",
       "      <td>0.733842</td>\n",
       "      <td>01:25</td>\n",
       "    </tr>\n",
       "  </tbody>\n",
       "</table><p>\n",
       "\n",
       "    <div>\n",
       "        <style>\n",
       "            /* Turns off some styling */\n",
       "            progress {\n",
       "                /* gets rid of default border in Firefox and Opera. */\n",
       "                border: none;\n",
       "                /* Needs to be in here for Safari polyfill so background images work as expected. */\n",
       "                background-size: auto;\n",
       "            }\n",
       "            .progress-bar-interrupted, .progress-bar-interrupted::-webkit-progress-bar {\n",
       "                background: #F44336;\n",
       "            }\n",
       "        </style>\n",
       "      <progress value='148' class='' max='224' style='width:300px; height:20px; vertical-align: middle;'></progress>\n",
       "      66.07% [148/224 00:51<00:26 0.0867]\n",
       "    </div>\n",
       "    "
      ],
      "text/plain": [
       "<IPython.core.display.HTML object>"
      ]
     },
     "metadata": {},
     "output_type": "display_data"
    }
   ],
   "source": [
    "learn = train_model(dls)"
   ]
  },
  {
   "cell_type": "code",
   "execution_count": null,
   "metadata": {},
   "outputs": [],
   "source": [
    "learn = train_model(dls, arch=resnet34)"
   ]
  },
  {
   "cell_type": "code",
   "execution_count": null,
   "metadata": {
    "scrolled": true
   },
   "outputs": [],
   "source": [
    "interp = ClassificationInterpretation.from_learner(learn)"
   ]
  },
  {
   "cell_type": "code",
   "execution_count": null,
   "metadata": {},
   "outputs": [],
   "source": [
    "interp.plot_confusion_matrix()"
   ]
  },
  {
   "cell_type": "code",
   "execution_count": null,
   "metadata": {},
   "outputs": [],
   "source": [
    "interp.plot_top_losses(k=5)"
   ]
  },
  {
   "cell_type": "markdown",
   "metadata": {},
   "source": [
    "# Hook the activations from the second last layer"
   ]
  },
  {
   "cell_type": "code",
   "execution_count": null,
   "metadata": {},
   "outputs": [],
   "source": [
    "layers = flatten_model(learn.model)\n",
    "len(layers)"
   ]
  },
  {
   "cell_type": "code",
   "execution_count": null,
   "metadata": {},
   "outputs": [],
   "source": [
    "layers"
   ]
  },
  {
   "cell_type": "code",
   "execution_count": null,
   "metadata": {},
   "outputs": [],
   "source": []
  }
 ],
 "metadata": {
  "kernelspec": {
   "display_name": "Python 3",
   "language": "python",
   "name": "python3"
  },
  "language_info": {
   "codemirror_mode": {
    "name": "ipython",
    "version": 3
   },
   "file_extension": ".py",
   "mimetype": "text/x-python",
   "name": "python",
   "nbconvert_exporter": "python",
   "pygments_lexer": "ipython3",
   "version": "3.8.6"
  }
 },
 "nbformat": 4,
 "nbformat_minor": 5
}
